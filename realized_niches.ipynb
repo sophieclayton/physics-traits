{
 "cells": [
  {
   "cell_type": "code",
   "execution_count": 1,
   "metadata": {
    "collapsed": false
   },
   "outputs": [
    {
     "name": "stderr",
     "output_type": "stream",
     "text": [
      "/Users/sclayton/anaconda/lib/python2.7/site-packages/matplotlib/font_manager.py:273: UserWarning: Matplotlib is building the font cache using fc-list. This may take a moment.\n",
      "  warnings.warn('Matplotlib is building the font cache using fc-list. This may take a moment.')\n"
     ]
    }
   ],
   "source": [
    "% matplotlib inline\n",
    "from __future__ import division\n",
    "\n",
    "import numpy as np\n",
    "import pandas as pd\n",
    "import matplotlib.pyplot as plt"
   ]
  },
  {
   "cell_type": "code",
   "execution_count": null,
   "metadata": {
    "collapsed": true
   },
   "outputs": [],
   "source": [
    "def checklon(data):\n",
    "    cxx = (data['lon']).values # longitude\n",
    "\n",
    "    # convert all longitude to longitude east\n",
    "    cxx[cxx<0]= 360+cxx[cxx<0];\n",
    "    data['lon_e'] = cxx\n",
    "    cxbew = cxx\n",
    "    cxbew[cxbew>180] = cxbew[cxbew>180]-360   \n",
    "    data['lon'] = cxbew\n",
    "    return data"
   ]
  },
  {
   "cell_type": "code",
   "execution_count": 2,
   "metadata": {
    "collapsed": false
   },
   "outputs": [],
   "source": [
    "# import the data\n",
    "# pro ecotypes\n",
    "filePath = r'/Users/sclayton/Google Drive/work/physics_traits/data/Monster dataset AMT 13_proportal.xlsx'\n",
    "pro_table = pd.read_excel(filePath)\n",
    "\n",
    "# syn ecotypes\n",
    "filePath = r'/Users/sclayton/Google Drive/work/physics_traits/data/Syne data for Sophie.xlsx'\n",
    "syn_table = pd.read_excel(filePath)"
   ]
  },
  {
   "cell_type": "code",
   "execution_count": 5,
   "metadata": {
    "collapsed": false
   },
   "outputs": [
    {
     "name": "stdout",
     "output_type": "stream",
     "text": [
      "Index([u'CTD', u'lat', u'lon', u'JD (GMT)', u'CTD deploy (GMT)', u'Niskin #',\n",
      "       u'depth (m)', u'Pro FCM', u'T QPCR', u'MED4', u'MIT9312', u'MIT9211',\n",
      "       u'NATL2A', u'SS120', u'MIT9313', u'Syn FCM', u'TEMP', u'light'],\n",
      "      dtype='object')\n",
      "Index([u'sample/cruise', u'station', u'lat (deg N)', u'lon', u'depth', u'temp',\n",
      "       u'syne1 (cells/ml)', u'syne2', u'syne3', u'syne4', u'syne8', u'syne10',\n",
      "       u'syne15', u'syne16', u'CRD1', u'CRD2'],\n",
      "      dtype='object')\n"
     ]
    }
   ],
   "source": [
    "print pro_table.columns\n",
    "print syn_table.columns"
   ]
  },
  {
   "cell_type": "code",
   "execution_count": null,
   "metadata": {
    "collapsed": true
   },
   "outputs": [],
   "source": []
  }
 ],
 "metadata": {
  "kernelspec": {
   "display_name": "Python 2",
   "language": "python",
   "name": "python2"
  },
  "language_info": {
   "codemirror_mode": {
    "name": "ipython",
    "version": 2
   },
   "file_extension": ".py",
   "mimetype": "text/x-python",
   "name": "python",
   "nbconvert_exporter": "python",
   "pygments_lexer": "ipython2",
   "version": "2.7.11"
  }
 },
 "nbformat": 4,
 "nbformat_minor": 0
}
